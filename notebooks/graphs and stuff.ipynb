{
 "cells": [
  {
   "cell_type": "code",
   "execution_count": 1,
   "id": "1a7d06fa-88c6-43a6-a3d7-b5dff6340dce",
   "metadata": {},
   "outputs": [
    {
     "name": "stderr",
     "output_type": "stream",
     "text": [
      "/home/saurabhjhanjee/anaconda3/envs/applied-data-science1/lib/python3.10/site-packages/scipy/__init__.py:146: UserWarning: A NumPy version >=1.16.5 and <1.23.0 is required for this version of SciPy (detected version 1.23.1\n",
      "  warnings.warn(f\"A NumPy version >={np_minversion} and <{np_maxversion}\"\n"
     ]
    }
   ],
   "source": [
    "import pandas as pd\n",
    "from pyspark.sql import SparkSession\n",
    "from pyspark.sql import functions as F\n",
    "from sklearn.linear_model import ElasticNet\n",
    "from sklearn.svm import SVR\n",
    "from sklearn.model_selection import train_test_split, cross_val_score, GridSearchCV\n",
    "from sklearn.preprocessing import StandardScaler, PolynomialFeatures\n",
    "from sklearn.metrics import mean_squared_error, r2_score\n",
    "from itertools import chain\n",
    "from matplotlib import pyplot as plt\n",
    "from sklearn.pipeline import make_pipeline\n",
    "from sklearn.inspection import permutation_importance\n",
    "import numpy as np\n",
    "import altair as alt\n",
    "from scipy.stats import f_oneway"
   ]
  },
  {
   "cell_type": "code",
   "execution_count": 2,
   "id": "90bff4a5-c8a0-4f11-9d26-3f384eb0644e",
   "metadata": {},
   "outputs": [],
   "source": [
    "data = pd.read_parquet(\"../data/curated/train/Airport Dropoffs_2021_train\")\n",
    "y = data[\"count\"]\n",
    "AIRPORT_CODE_MAP = {132: \"JFK\", 1: \"EWR\", 138: \"LGA\"}"
   ]
  },
  {
   "cell_type": "markdown",
   "id": "e6f0ac02-f6e8-4563-bb10-d868d04ec7f9",
   "metadata": {},
   "source": [
    "# ANOVA\n",
    "Test for relevance of Day"
   ]
  },
  {
   "cell_type": "code",
   "execution_count": 3,
   "id": "aa4b2dd8-4dbb-409c-b4c0-f52d849bbbea",
   "metadata": {},
   "outputs": [
    {
     "name": "stdout",
     "output_type": "stream",
     "text": [
      "\\begin{tabular}{lrrrr}\n",
      "\\toprule\n",
      "{} &        sum\\_sq &       df &          F &        PR(>F) \\\\\n",
      "\\midrule\n",
      "C(Day)   &  6.272285e+06 &      6.0 &  38.286814 &  2.718924e-46 \\\\\n",
      "Residual &  3.035925e+08 &  11119.0 &        NaN &           NaN \\\\\n",
      "\\bottomrule\n",
      "\\end{tabular}\n",
      "\n"
     ]
    },
    {
     "name": "stderr",
     "output_type": "stream",
     "text": [
      "/tmp/ipykernel_50323/2035403004.py:7: FutureWarning: In future versions `DataFrame.to_latex` is expected to utilise the base implementation of `Styler.to_latex` for formatting and rendering. The arguments signature may therefore change. It is recommended instead to use `DataFrame.style.to_latex` which also contains additional functionality.\n",
      "  print(anova_table.to_latex())\n"
     ]
    }
   ],
   "source": [
    "import statsmodels.api as sm\n",
    "from statsmodels.formula.api import ols\n",
    "\n",
    "model = ols('count ~ C(Day)', data=data).fit()\n",
    "\n",
    "anova_table = sm.stats.anova_lm(model, typ=2)\n",
    "print(anova_table.to_latex())"
   ]
  },
  {
   "cell_type": "markdown",
   "id": "19a89b4e-a1cc-43dc-8b3d-f28e9d4998d6",
   "metadata": {},
   "source": [
    "Test for relevance of Facility"
   ]
  },
  {
   "cell_type": "code",
   "execution_count": 4,
   "id": "0a3d5f15-d437-4550-ba03-f207bd992b99",
   "metadata": {},
   "outputs": [
    {
     "name": "stdout",
     "output_type": "stream",
     "text": [
      "\\begin{tabular}{lrrrr}\n",
      "\\toprule\n",
      "{} &        sum\\_sq &       df &            F &  PR(>F) \\\\\n",
      "\\midrule\n",
      "C(Facility) &  6.338480e+07 &      2.0 &  1430.195648 &     0.0 \\\\\n",
      "Residual    &  2.464800e+08 &  11123.0 &          NaN &     NaN \\\\\n",
      "\\bottomrule\n",
      "\\end{tabular}\n",
      "\n"
     ]
    },
    {
     "name": "stderr",
     "output_type": "stream",
     "text": [
      "/tmp/ipykernel_50323/3196118863.py:3: FutureWarning: In future versions `DataFrame.to_latex` is expected to utilise the base implementation of `Styler.to_latex` for formatting and rendering. The arguments signature may therefore change. It is recommended instead to use `DataFrame.style.to_latex` which also contains additional functionality.\n",
      "  print(anova_table.to_latex())\n"
     ]
    }
   ],
   "source": [
    "model = ols('count ~ C(Facility)', data=data).fit()\n",
    "anova_table = sm.stats.anova_lm(model, typ=2)\n",
    "print(anova_table.to_latex())"
   ]
  },
  {
   "cell_type": "markdown",
   "id": "eb68a2ac-8651-48b1-bb76-5499ecb691d4",
   "metadata": {},
   "source": [
    "Test for interaction of Facility and Day"
   ]
  },
  {
   "cell_type": "code",
   "execution_count": 5,
   "id": "f522339d-5a5f-48a8-b337-23ed4871f296",
   "metadata": {},
   "outputs": [
    {
     "name": "stdout",
     "output_type": "stream",
     "text": [
      "\\begin{tabular}{lrrrr}\n",
      "\\toprule\n",
      "{} &        sum\\_sq &       df &            F &        PR(>F) \\\\\n",
      "\\midrule\n",
      "C(Facility)        &  6.385527e+07 &      2.0 &  1492.334127 &  0.000000e+00 \\\\\n",
      "C(Day)             &  6.742758e+06 &      6.0 &    52.527365 &  3.904188e-64 \\\\\n",
      "C(Facility):C(Day) &  2.152066e+06 &     12.0 &     8.382503 &  5.128350e-16 \\\\\n",
      "Residual           &  2.375851e+08 &  11105.0 &          NaN &           NaN \\\\\n",
      "\\bottomrule\n",
      "\\end{tabular}\n",
      "\n"
     ]
    },
    {
     "name": "stderr",
     "output_type": "stream",
     "text": [
      "/tmp/ipykernel_50323/4186352112.py:3: FutureWarning: In future versions `DataFrame.to_latex` is expected to utilise the base implementation of `Styler.to_latex` for formatting and rendering. The arguments signature may therefore change. It is recommended instead to use `DataFrame.style.to_latex` which also contains additional functionality.\n",
      "  print(anova_table.to_latex())\n"
     ]
    }
   ],
   "source": [
    "model = ols('count ~ C(Facility) + C(Day) + C(Facility):C(Day)', data=data).fit()\n",
    "anova_table = sm.stats.anova_lm(model, typ=2)\n",
    "print(anova_table.to_latex())\n"
   ]
  },
  {
   "cell_type": "code",
   "execution_count": 6,
   "id": "6ab4e87d-481b-41c7-a28c-c37b9a640f42",
   "metadata": {},
   "outputs": [
    {
     "name": "stdout",
     "output_type": "stream",
     "text": [
      "\\begin{tabular}{lrrrrrr}\n",
      "\\toprule\n",
      "{} &  df\\_resid &           ssr &  df\\_diff &       ss\\_diff &           F &        Pr(>F) \\\\\n",
      "\\midrule\n",
      "0 &   11124.0 &  3.037303e+08 &      0.0 &           NaN &         NaN &           NaN \\\\\n",
      "1 &   11123.0 &  2.978136e+08 &      1.0 &  5.916760e+06 &  220.984281 &  1.645919e-49 \\\\\n",
      "\\bottomrule\n",
      "\\end{tabular}\n",
      "\n"
     ]
    },
    {
     "name": "stderr",
     "output_type": "stream",
     "text": [
      "/tmp/ipykernel_50323/3087735198.py:7: FutureWarning: In future versions `DataFrame.to_latex` is expected to utilise the base implementation of `Styler.to_latex` for formatting and rendering. The arguments signature may therefore change. It is recommended instead to use `DataFrame.style.to_latex` which also contains additional functionality.\n",
      "  print(anova_table.to_latex())\n"
     ]
    }
   ],
   "source": [
    "df = data.copy()\n",
    "df.columns = df.columns.str.replace(' ', '_')\n",
    "model = ols('count ~ Arrivals_For_Metric_Computation', data=df).fit()\n",
    "model2 = ols('count ~ Departures_For_Metric_Computation + Arrivals_For_Metric_Computation', data=df).fit()\n",
    "\n",
    "anova_table = sm.stats.anova_lm(model, model2, typ=1)\n",
    "print(anova_table.to_latex())\n"
   ]
  },
  {
   "cell_type": "markdown",
   "id": "59fb6ff6-4cd7-400c-8854-5472bb171834",
   "metadata": {},
   "source": [
    "Plot correlations between time shifted vars and count."
   ]
  },
  {
   "cell_type": "code",
   "execution_count": 7,
   "id": "cb747a4c-218c-4743-a75b-c1f4f3a14967",
   "metadata": {},
   "outputs": [],
   "source": [
    "\n",
    "\n",
    "def plot_corr(x, y, title):\n",
    "    base = alt.Chart(corrMatrix1).encode(\n",
    "        x=x,\n",
    "        y=y,\n",
    "    ).properties(\n",
    "        width=alt.Step(100),\n",
    "        height=alt.Step(100),\n",
    "        title=title\n",
    "    )\n",
    "\n",
    "    rects = base.mark_rect().encode(\n",
    "        color=alt.Color('correlation', scale=alt.Scale(domain=[-1,1]))\n",
    "    )\n",
    "\n",
    "    text = base.mark_text(\n",
    "        size=30\n",
    "    ).encode(\n",
    "        text=alt.Text('correlation', format=\".2f\"),\n",
    "        color=alt.condition(\n",
    "            \"datum.correlation > 0.5\",\n",
    "            alt.value('white'),\n",
    "            alt.value('black')\n",
    "        )\n",
    "    )\n",
    "\n",
    "    return rects + text\n"
   ]
  },
  {
   "cell_type": "code",
   "execution_count": 8,
   "id": "a298aec2-3dfb-4360-9aac-2b69b88de87b",
   "metadata": {},
   "outputs": [
    {
     "data": {
      "text/html": [
       "\n",
       "<div id=\"altair-viz-7eb4ec49e192476485fe4bc282917dca\"></div>\n",
       "<script type=\"text/javascript\">\n",
       "  (function(spec, embedOpt){\n",
       "    let outputDiv = document.currentScript.previousElementSibling;\n",
       "    if (outputDiv.id !== \"altair-viz-7eb4ec49e192476485fe4bc282917dca\") {\n",
       "      outputDiv = document.getElementById(\"altair-viz-7eb4ec49e192476485fe4bc282917dca\");\n",
       "    }\n",
       "    const paths = {\n",
       "      \"vega\": \"https://cdn.jsdelivr.net/npm//vega@5?noext\",\n",
       "      \"vega-lib\": \"https://cdn.jsdelivr.net/npm//vega-lib?noext\",\n",
       "      \"vega-lite\": \"https://cdn.jsdelivr.net/npm//vega-lite@4.8.1?noext\",\n",
       "      \"vega-embed\": \"https://cdn.jsdelivr.net/npm//vega-embed@6?noext\",\n",
       "    };\n",
       "\n",
       "    function loadScript(lib) {\n",
       "      return new Promise(function(resolve, reject) {\n",
       "        var s = document.createElement('script');\n",
       "        s.src = paths[lib];\n",
       "        s.async = true;\n",
       "        s.onload = () => resolve(paths[lib]);\n",
       "        s.onerror = () => reject(`Error loading script: ${paths[lib]}`);\n",
       "        document.getElementsByTagName(\"head\")[0].appendChild(s);\n",
       "      });\n",
       "    }\n",
       "\n",
       "    function showError(err) {\n",
       "      outputDiv.innerHTML = `<div class=\"error\" style=\"color:red;\">${err}</div>`;\n",
       "      throw err;\n",
       "    }\n",
       "\n",
       "    function displayChart(vegaEmbed) {\n",
       "      vegaEmbed(outputDiv, spec, embedOpt)\n",
       "        .catch(err => showError(`Javascript Error: ${err.message}<br>This usually means there's a typo in your chart specification. See the javascript console for the full traceback.`));\n",
       "    }\n",
       "\n",
       "    if(typeof define === \"function\" && define.amd) {\n",
       "      requirejs.config({paths});\n",
       "      require([\"vega-embed\"], displayChart, err => showError(`Error loading script: ${err.message}`));\n",
       "    } else if (typeof vegaEmbed === \"function\") {\n",
       "      displayChart(vegaEmbed);\n",
       "    } else {\n",
       "      loadScript(\"vega\")\n",
       "        .then(() => loadScript(\"vega-lite\"))\n",
       "        .then(() => loadScript(\"vega-embed\"))\n",
       "        .catch(showError)\n",
       "        .then(() => displayChart(vegaEmbed));\n",
       "    }\n",
       "  })({\"config\": {\"view\": {\"continuousWidth\": 400, \"continuousHeight\": 300}}, \"layer\": [{\"mark\": \"rect\", \"encoding\": {\"color\": {\"type\": \"quantitative\", \"field\": \"correlation\", \"scale\": {\"domain\": [-1, 1]}}, \"x\": {\"type\": \"nominal\", \"field\": \"Possible Features\"}, \"y\": {\"type\": \"nominal\", \"field\": \"Response\"}}, \"height\": {\"step\": 100}, \"title\": \"Airport Dropoff Count vs Temporally Shifted Plane Arrivals\", \"width\": {\"step\": 100}}, {\"mark\": {\"type\": \"text\", \"size\": 30}, \"encoding\": {\"color\": {\"condition\": {\"value\": \"white\", \"test\": \"datum.correlation > 0.5\"}, \"value\": \"black\"}, \"text\": {\"type\": \"quantitative\", \"field\": \"correlation\", \"format\": \".2f\"}, \"x\": {\"type\": \"nominal\", \"field\": \"Possible Features\"}, \"y\": {\"type\": \"nominal\", \"field\": \"Response\"}}, \"height\": {\"step\": 100}, \"title\": \"Airport Dropoff Count vs Temporally Shifted Plane Arrivals\", \"width\": {\"step\": 100}}], \"data\": {\"name\": \"data-306a9aad909f6c2140edeb5103737534\"}, \"$schema\": \"https://vega.github.io/schema/vega-lite/v4.8.1.json\", \"datasets\": {\"data-306a9aad909f6c2140edeb5103737534\": [{\"Possible Features\": \"0\", \"Response\": \"count\", \"correlation\": 0.14070225506039444}, {\"Possible Features\": \"+1\", \"Response\": \"count\", \"correlation\": 0.2706642111840455}, {\"Possible Features\": \"-1\", \"Response\": \"count\", \"correlation\": -0.02971733397104941}, {\"Possible Features\": \"+2\", \"Response\": \"count\", \"correlation\": 0.3256007964060985}, {\"Possible Features\": \"-2\", \"Response\": \"count\", \"correlation\": -0.17531054016623718}, {\"Possible Features\": \"+3\", \"Response\": \"count\", \"correlation\": 0.31542572688413967}, {\"Possible Features\": \"-3\", \"Response\": \"count\", \"correlation\": -0.2702480438958644}, {\"Possible Features\": \"+4\", \"Response\": \"count\", \"correlation\": 0.3057204726033644}, {\"Possible Features\": \"-4\", \"Response\": \"count\", \"correlation\": -0.30426479834875714}, {\"Possible Features\": \"+5\", \"Response\": \"count\", \"correlation\": 0.3149925061627369}, {\"Possible Features\": \"-5\", \"Response\": \"count\", \"correlation\": -0.27129365785838117}]}}, {\"mode\": \"vega-lite\"});\n",
       "</script>"
      ],
      "text/plain": [
       "alt.LayerChart(...)"
      ]
     },
     "execution_count": 8,
     "metadata": {},
     "output_type": "execute_result"
    }
   ],
   "source": [
    "corrMatrix = data.drop([\"Facility\", \"Day\", \"Hour\"], axis=1).corr().loc[\"count\", :].reset_index().melt('index')\n",
    "corrMatrix.columns = ['Possible Features', 'Response', 'correlation']\n",
    "def rename_columns(value, ride_type):\n",
    "    if value == \"count\": return ride_type + \" Count\"\n",
    "    if value[-1].isnumeric(): return value[-2:]\n",
    "    else: return \"0\"\n",
    "\n",
    "corrMatrix1 = corrMatrix.copy()\n",
    "corrMatrix1 = corrMatrix1[corrMatrix1['Possible Features'].str.contains(\"Arrivals\")]\n",
    "corrMatrix1['Possible Features'] = corrMatrix1['Possible Features'].apply(lambda x: rename_columns(x, \"Dropoffs\"))\n",
    "\n",
    "\n",
    "plot_corr(\"Possible Features\", \"Response\", \"Airport Dropoff Count vs Temporally Shifted Plane Arrivals\")"
   ]
  },
  {
   "cell_type": "code",
   "execution_count": 9,
   "id": "f4a06189-e478-4d99-82eb-8768a0aae7a9",
   "metadata": {},
   "outputs": [
    {
     "data": {
      "text/html": [
       "\n",
       "<div id=\"altair-viz-9a8998932db4443cb90a2c1f0f236022\"></div>\n",
       "<script type=\"text/javascript\">\n",
       "  (function(spec, embedOpt){\n",
       "    let outputDiv = document.currentScript.previousElementSibling;\n",
       "    if (outputDiv.id !== \"altair-viz-9a8998932db4443cb90a2c1f0f236022\") {\n",
       "      outputDiv = document.getElementById(\"altair-viz-9a8998932db4443cb90a2c1f0f236022\");\n",
       "    }\n",
       "    const paths = {\n",
       "      \"vega\": \"https://cdn.jsdelivr.net/npm//vega@5?noext\",\n",
       "      \"vega-lib\": \"https://cdn.jsdelivr.net/npm//vega-lib?noext\",\n",
       "      \"vega-lite\": \"https://cdn.jsdelivr.net/npm//vega-lite@4.8.1?noext\",\n",
       "      \"vega-embed\": \"https://cdn.jsdelivr.net/npm//vega-embed@6?noext\",\n",
       "    };\n",
       "\n",
       "    function loadScript(lib) {\n",
       "      return new Promise(function(resolve, reject) {\n",
       "        var s = document.createElement('script');\n",
       "        s.src = paths[lib];\n",
       "        s.async = true;\n",
       "        s.onload = () => resolve(paths[lib]);\n",
       "        s.onerror = () => reject(`Error loading script: ${paths[lib]}`);\n",
       "        document.getElementsByTagName(\"head\")[0].appendChild(s);\n",
       "      });\n",
       "    }\n",
       "\n",
       "    function showError(err) {\n",
       "      outputDiv.innerHTML = `<div class=\"error\" style=\"color:red;\">${err}</div>`;\n",
       "      throw err;\n",
       "    }\n",
       "\n",
       "    function displayChart(vegaEmbed) {\n",
       "      vegaEmbed(outputDiv, spec, embedOpt)\n",
       "        .catch(err => showError(`Javascript Error: ${err.message}<br>This usually means there's a typo in your chart specification. See the javascript console for the full traceback.`));\n",
       "    }\n",
       "\n",
       "    if(typeof define === \"function\" && define.amd) {\n",
       "      requirejs.config({paths});\n",
       "      require([\"vega-embed\"], displayChart, err => showError(`Error loading script: ${err.message}`));\n",
       "    } else if (typeof vegaEmbed === \"function\") {\n",
       "      displayChart(vegaEmbed);\n",
       "    } else {\n",
       "      loadScript(\"vega\")\n",
       "        .then(() => loadScript(\"vega-lite\"))\n",
       "        .then(() => loadScript(\"vega-embed\"))\n",
       "        .catch(showError)\n",
       "        .then(() => displayChart(vegaEmbed));\n",
       "    }\n",
       "  })({\"config\": {\"view\": {\"continuousWidth\": 400, \"continuousHeight\": 300}}, \"layer\": [{\"mark\": \"rect\", \"encoding\": {\"color\": {\"type\": \"quantitative\", \"field\": \"correlation\", \"scale\": {\"domain\": [-1, 1]}}, \"x\": {\"type\": \"nominal\", \"field\": \"Possible Features\"}, \"y\": {\"type\": \"nominal\", \"field\": \"Response\"}}, \"height\": {\"step\": 100}, \"title\": \"Airport Dropoff Count vs Temporally Shifted Plane Departures\", \"width\": {\"step\": 100}}, {\"mark\": {\"type\": \"text\", \"size\": 30}, \"encoding\": {\"color\": {\"condition\": {\"value\": \"white\", \"test\": \"datum.correlation > 0.5\"}, \"value\": \"black\"}, \"text\": {\"type\": \"quantitative\", \"field\": \"correlation\", \"format\": \".2f\"}, \"x\": {\"type\": \"nominal\", \"field\": \"Possible Features\"}, \"y\": {\"type\": \"nominal\", \"field\": \"Response\"}}, \"height\": {\"step\": 100}, \"title\": \"Airport Dropoff Count vs Temporally Shifted Plane Departures\", \"width\": {\"step\": 100}}], \"data\": {\"name\": \"data-26ebd8094ea4eab3d6d2fa8c8ed792dd\"}, \"$schema\": \"https://vega.github.io/schema/vega-lite/v4.8.1.json\", \"datasets\": {\"data-26ebd8094ea4eab3d6d2fa8c8ed792dd\": [{\"Possible Features\": \"0\", \"Response\": \"count\", \"correlation\": 0.1817681523133227}, {\"Possible Features\": \"+1\", \"Response\": \"count\", \"correlation\": 0.3800263664246096}, {\"Possible Features\": \"-1\", \"Response\": \"count\", \"correlation\": 0.019399097912733698}, {\"Possible Features\": \"+2\", \"Response\": \"count\", \"correlation\": 0.5943875732411489}, {\"Possible Features\": \"-2\", \"Response\": \"count\", \"correlation\": -0.0705983708462509}, {\"Possible Features\": \"+3\", \"Response\": \"count\", \"correlation\": 0.6432946136995767}, {\"Possible Features\": \"-3\", \"Response\": \"count\", \"correlation\": -0.0976576145370233}, {\"Possible Features\": \"+4\", \"Response\": \"count\", \"correlation\": 0.5062130239971359}, {\"Possible Features\": \"-4\", \"Response\": \"count\", \"correlation\": -0.07899193445800112}, {\"Possible Features\": \"+5\", \"Response\": \"count\", \"correlation\": 0.32706348092705634}, {\"Possible Features\": \"-5\", \"Response\": \"count\", \"correlation\": -0.045206437843523614}]}}, {\"mode\": \"vega-lite\"});\n",
       "</script>"
      ],
      "text/plain": [
       "alt.LayerChart(...)"
      ]
     },
     "execution_count": 9,
     "metadata": {},
     "output_type": "execute_result"
    }
   ],
   "source": [
    "corrMatrix1 = corrMatrix.copy()\n",
    "corrMatrix1 = corrMatrix1[corrMatrix1['Possible Features'].str.contains(\"Departures\")]\n",
    "corrMatrix1['Possible Features'] = corrMatrix1['Possible Features'].apply(lambda x: rename_columns(x, \"Dropoffs\"))\n",
    "\n",
    "plot_corr(\"Possible Features\", \"Response\", \"Airport Dropoff Count vs Temporally Shifted Plane Departures\")"
   ]
  },
  {
   "cell_type": "code",
   "execution_count": null,
   "id": "353b4440-7d62-42c8-a3e8-a2cfe12d10ad",
   "metadata": {},
   "outputs": [],
   "source": []
  },
  {
   "cell_type": "code",
   "execution_count": 10,
   "id": "e2989a0b-eb79-4a3d-b113-a86703d229d1",
   "metadata": {},
   "outputs": [],
   "source": [
    "pickup_data = pd.read_parquet(\"../data/curated/train/Airport Pickups_2021_train\")\n",
    "pickup_y = pickup_data[\"count\"]\n"
   ]
  },
  {
   "cell_type": "code",
   "execution_count": 11,
   "id": "41f808b8-ad16-411e-9fec-e40fab9c78af",
   "metadata": {},
   "outputs": [
    {
     "data": {
      "text/html": [
       "\n",
       "<div id=\"altair-viz-58ad9466dff24c83a4659c0a8a322bd6\"></div>\n",
       "<script type=\"text/javascript\">\n",
       "  (function(spec, embedOpt){\n",
       "    let outputDiv = document.currentScript.previousElementSibling;\n",
       "    if (outputDiv.id !== \"altair-viz-58ad9466dff24c83a4659c0a8a322bd6\") {\n",
       "      outputDiv = document.getElementById(\"altair-viz-58ad9466dff24c83a4659c0a8a322bd6\");\n",
       "    }\n",
       "    const paths = {\n",
       "      \"vega\": \"https://cdn.jsdelivr.net/npm//vega@5?noext\",\n",
       "      \"vega-lib\": \"https://cdn.jsdelivr.net/npm//vega-lib?noext\",\n",
       "      \"vega-lite\": \"https://cdn.jsdelivr.net/npm//vega-lite@4.8.1?noext\",\n",
       "      \"vega-embed\": \"https://cdn.jsdelivr.net/npm//vega-embed@6?noext\",\n",
       "    };\n",
       "\n",
       "    function loadScript(lib) {\n",
       "      return new Promise(function(resolve, reject) {\n",
       "        var s = document.createElement('script');\n",
       "        s.src = paths[lib];\n",
       "        s.async = true;\n",
       "        s.onload = () => resolve(paths[lib]);\n",
       "        s.onerror = () => reject(`Error loading script: ${paths[lib]}`);\n",
       "        document.getElementsByTagName(\"head\")[0].appendChild(s);\n",
       "      });\n",
       "    }\n",
       "\n",
       "    function showError(err) {\n",
       "      outputDiv.innerHTML = `<div class=\"error\" style=\"color:red;\">${err}</div>`;\n",
       "      throw err;\n",
       "    }\n",
       "\n",
       "    function displayChart(vegaEmbed) {\n",
       "      vegaEmbed(outputDiv, spec, embedOpt)\n",
       "        .catch(err => showError(`Javascript Error: ${err.message}<br>This usually means there's a typo in your chart specification. See the javascript console for the full traceback.`));\n",
       "    }\n",
       "\n",
       "    if(typeof define === \"function\" && define.amd) {\n",
       "      requirejs.config({paths});\n",
       "      require([\"vega-embed\"], displayChart, err => showError(`Error loading script: ${err.message}`));\n",
       "    } else if (typeof vegaEmbed === \"function\") {\n",
       "      displayChart(vegaEmbed);\n",
       "    } else {\n",
       "      loadScript(\"vega\")\n",
       "        .then(() => loadScript(\"vega-lite\"))\n",
       "        .then(() => loadScript(\"vega-embed\"))\n",
       "        .catch(showError)\n",
       "        .then(() => displayChart(vegaEmbed));\n",
       "    }\n",
       "  })({\"config\": {\"view\": {\"continuousWidth\": 400, \"continuousHeight\": 300}}, \"layer\": [{\"mark\": \"rect\", \"encoding\": {\"color\": {\"type\": \"quantitative\", \"field\": \"correlation\", \"scale\": {\"domain\": [-1, 1]}}, \"x\": {\"type\": \"nominal\", \"field\": \"Possible Features\"}, \"y\": {\"type\": \"nominal\", \"field\": \"Response\"}}, \"height\": {\"step\": 100}, \"title\": \"Airport Pickup Count vs Temporally Shifted Plane Arrivals\", \"width\": {\"step\": 100}}, {\"mark\": {\"type\": \"text\", \"size\": 30}, \"encoding\": {\"color\": {\"condition\": {\"value\": \"white\", \"test\": \"datum.correlation > 0.5\"}, \"value\": \"black\"}, \"text\": {\"type\": \"quantitative\", \"field\": \"correlation\", \"format\": \".2f\"}, \"x\": {\"type\": \"nominal\", \"field\": \"Possible Features\"}, \"y\": {\"type\": \"nominal\", \"field\": \"Response\"}}, \"height\": {\"step\": 100}, \"title\": \"Airport Pickup Count vs Temporally Shifted Plane Arrivals\", \"width\": {\"step\": 100}}], \"data\": {\"name\": \"data-ed07103fcf5229d9c22bd907698dcdae\"}, \"$schema\": \"https://vega.github.io/schema/vega-lite/v4.8.1.json\", \"datasets\": {\"data-ed07103fcf5229d9c22bd907698dcdae\": [{\"Possible Features\": \"0\", \"Response\": \"count\", \"correlation\": 0.3853583757261678}, {\"Possible Features\": \"+1\", \"Response\": \"count\", \"correlation\": 0.3095554765019842}, {\"Possible Features\": \"-1\", \"Response\": \"count\", \"correlation\": 0.43064901887237067}, {\"Possible Features\": \"+2\", \"Response\": \"count\", \"correlation\": 0.17868341061947182}, {\"Possible Features\": \"-2\", \"Response\": \"count\", \"correlation\": 0.4181805100032497}, {\"Possible Features\": \"+3\", \"Response\": \"count\", \"correlation\": 0.07814724383976636}, {\"Possible Features\": \"-3\", \"Response\": \"count\", \"correlation\": 0.3622206423034223}, {\"Possible Features\": \"+4\", \"Response\": \"count\", \"correlation\": 0.01376998758908857}, {\"Possible Features\": \"-4\", \"Response\": \"count\", \"correlation\": 0.33432253439085163}, {\"Possible Features\": \"+5\", \"Response\": \"count\", \"correlation\": -0.02613756992861456}, {\"Possible Features\": \"-5\", \"Response\": \"count\", \"correlation\": 0.2643285565995834}]}}, {\"mode\": \"vega-lite\"});\n",
       "</script>"
      ],
      "text/plain": [
       "alt.LayerChart(...)"
      ]
     },
     "execution_count": 11,
     "metadata": {},
     "output_type": "execute_result"
    }
   ],
   "source": [
    "pickupCorrMatrix = pickup_data.drop([\"Facility\", \"Day\", \"Hour\"], axis=1).corr().loc[\"count\", :].reset_index().melt('index')\n",
    "pickupCorrMatrix.columns = ['Possible Features', 'Response', 'correlation']\n",
    "corrMatrix1 = pickupCorrMatrix.copy()\n",
    "corrMatrix1 = corrMatrix1[corrMatrix1['Possible Features'].str.contains(\"Arrivals\")]\n",
    "corrMatrix1['Possible Features'] = corrMatrix1['Possible Features'].apply(lambda x: rename_columns(x, \"Pickups\"))\n",
    "\n",
    "plot_corr(\"Possible Features\", \"Response\", \"Airport Pickup Count vs Temporally Shifted Plane Arrivals\")"
   ]
  },
  {
   "cell_type": "code",
   "execution_count": 12,
   "id": "1e6c795c-6fee-45e7-8077-c1dab1fb2f8c",
   "metadata": {},
   "outputs": [
    {
     "data": {
      "text/html": [
       "\n",
       "<div id=\"altair-viz-3b127eb014f64e288918c09f3cf16f52\"></div>\n",
       "<script type=\"text/javascript\">\n",
       "  (function(spec, embedOpt){\n",
       "    let outputDiv = document.currentScript.previousElementSibling;\n",
       "    if (outputDiv.id !== \"altair-viz-3b127eb014f64e288918c09f3cf16f52\") {\n",
       "      outputDiv = document.getElementById(\"altair-viz-3b127eb014f64e288918c09f3cf16f52\");\n",
       "    }\n",
       "    const paths = {\n",
       "      \"vega\": \"https://cdn.jsdelivr.net/npm//vega@5?noext\",\n",
       "      \"vega-lib\": \"https://cdn.jsdelivr.net/npm//vega-lib?noext\",\n",
       "      \"vega-lite\": \"https://cdn.jsdelivr.net/npm//vega-lite@4.8.1?noext\",\n",
       "      \"vega-embed\": \"https://cdn.jsdelivr.net/npm//vega-embed@6?noext\",\n",
       "    };\n",
       "\n",
       "    function loadScript(lib) {\n",
       "      return new Promise(function(resolve, reject) {\n",
       "        var s = document.createElement('script');\n",
       "        s.src = paths[lib];\n",
       "        s.async = true;\n",
       "        s.onload = () => resolve(paths[lib]);\n",
       "        s.onerror = () => reject(`Error loading script: ${paths[lib]}`);\n",
       "        document.getElementsByTagName(\"head\")[0].appendChild(s);\n",
       "      });\n",
       "    }\n",
       "\n",
       "    function showError(err) {\n",
       "      outputDiv.innerHTML = `<div class=\"error\" style=\"color:red;\">${err}</div>`;\n",
       "      throw err;\n",
       "    }\n",
       "\n",
       "    function displayChart(vegaEmbed) {\n",
       "      vegaEmbed(outputDiv, spec, embedOpt)\n",
       "        .catch(err => showError(`Javascript Error: ${err.message}<br>This usually means there's a typo in your chart specification. See the javascript console for the full traceback.`));\n",
       "    }\n",
       "\n",
       "    if(typeof define === \"function\" && define.amd) {\n",
       "      requirejs.config({paths});\n",
       "      require([\"vega-embed\"], displayChart, err => showError(`Error loading script: ${err.message}`));\n",
       "    } else if (typeof vegaEmbed === \"function\") {\n",
       "      displayChart(vegaEmbed);\n",
       "    } else {\n",
       "      loadScript(\"vega\")\n",
       "        .then(() => loadScript(\"vega-lite\"))\n",
       "        .then(() => loadScript(\"vega-embed\"))\n",
       "        .catch(showError)\n",
       "        .then(() => displayChart(vegaEmbed));\n",
       "    }\n",
       "  })({\"config\": {\"view\": {\"continuousWidth\": 400, \"continuousHeight\": 300}}, \"layer\": [{\"mark\": \"rect\", \"encoding\": {\"color\": {\"type\": \"quantitative\", \"field\": \"correlation\", \"scale\": {\"domain\": [-1, 1]}}, \"x\": {\"type\": \"nominal\", \"field\": \"Possible Features\"}, \"y\": {\"type\": \"nominal\", \"field\": \"Response\"}}, \"height\": {\"step\": 100}, \"title\": \"Airport Pickup Count vs Temporally Shifted Plane Departures\", \"width\": {\"step\": 100}}, {\"mark\": {\"type\": \"text\", \"size\": 30}, \"encoding\": {\"color\": {\"condition\": {\"value\": \"white\", \"test\": \"datum.correlation > 0.5\"}, \"value\": \"black\"}, \"text\": {\"type\": \"quantitative\", \"field\": \"correlation\", \"format\": \".2f\"}, \"x\": {\"type\": \"nominal\", \"field\": \"Possible Features\"}, \"y\": {\"type\": \"nominal\", \"field\": \"Response\"}}, \"height\": {\"step\": 100}, \"title\": \"Airport Pickup Count vs Temporally Shifted Plane Departures\", \"width\": {\"step\": 100}}], \"data\": {\"name\": \"data-e6b01c465983a48d47db1f3d68970115\"}, \"$schema\": \"https://vega.github.io/schema/vega-lite/v4.8.1.json\", \"datasets\": {\"data-e6b01c465983a48d47db1f3d68970115\": [{\"Possible Features\": \"0\", \"Response\": \"count\", \"correlation\": 0.21041808625994143}, {\"Possible Features\": \"+1\", \"Response\": \"count\", \"correlation\": 0.1704594212498923}, {\"Possible Features\": \"-1\", \"Response\": \"count\", \"correlation\": 0.2006952721261709}, {\"Possible Features\": \"+2\", \"Response\": \"count\", \"correlation\": 0.08519525714971223}, {\"Possible Features\": \"-2\", \"Response\": \"count\", \"correlation\": 0.2262446209909582}, {\"Possible Features\": \"+3\", \"Response\": \"count\", \"correlation\": -0.049981905944792134}, {\"Possible Features\": \"-3\", \"Response\": \"count\", \"correlation\": 0.24622659934839095}, {\"Possible Features\": \"+4\", \"Response\": \"count\", \"correlation\": -0.1636716412770503}, {\"Possible Features\": \"-4\", \"Response\": \"count\", \"correlation\": 0.24464431215108853}, {\"Possible Features\": \"+5\", \"Response\": \"count\", \"correlation\": -0.23932027687463997}, {\"Possible Features\": \"-5\", \"Response\": \"count\", \"correlation\": 0.20598818767222088}]}}, {\"mode\": \"vega-lite\"});\n",
       "</script>"
      ],
      "text/plain": [
       "alt.LayerChart(...)"
      ]
     },
     "execution_count": 12,
     "metadata": {},
     "output_type": "execute_result"
    }
   ],
   "source": [
    "corrMatrix1 = pickupCorrMatrix.copy()\n",
    "corrMatrix1 = corrMatrix1[corrMatrix1['Possible Features'].str.contains(\"Departures\")]\n",
    "corrMatrix1['Possible Features'] = corrMatrix1['Possible Features'].apply(lambda x: rename_columns(x, \"Pickups\"))\n",
    "\n",
    "plot_corr(\"Possible Features\", \"Response\", \"Airport Pickup Count vs Temporally Shifted Plane Departures\")"
   ]
  },
  {
   "cell_type": "code",
   "execution_count": 13,
   "id": "3b712f0b-d06c-44a9-b06d-a3d62ca9ecfd",
   "metadata": {},
   "outputs": [],
   "source": [
    "feature_list = [\"Day\", \"Departures For Metric Computation\", \"Arrivals For Metric Computation\", \"Facility\"]\n",
    "feature_list = []\n",
    "hour_intervals = range(1, 6)\n",
    "for interval in hour_intervals:\n",
    "    feature_list.append(f\"Departures For Metric Computation+{interval}\")\n",
    "    # feature_list.append(f\"Departures For Metric Computation-{interval}\")\n",
    "    feature_list.append(f\"Arrivals For Metric Computation-{interval}\")\n",
    "    # feature_list.append(f\"Arrivals For Metric Computation-{interval}\")\n"
   ]
  },
  {
   "cell_type": "markdown",
   "id": "5c20c2ca-0320-4d97-8a59-5eadf7cbcc49",
   "metadata": {},
   "source": [
    "Plot pairs correlation between time shifted vars to determine any collinearity"
   ]
  },
  {
   "cell_type": "code",
   "execution_count": 14,
   "id": "32fb2e08-f7cc-447c-baac-55987e2c82f1",
   "metadata": {},
   "outputs": [
    {
     "data": {
      "text/html": [
       "\n",
       "<div id=\"altair-viz-2666375b28f84b1b9dcbb9649e510eba\"></div>\n",
       "<script type=\"text/javascript\">\n",
       "  (function(spec, embedOpt){\n",
       "    let outputDiv = document.currentScript.previousElementSibling;\n",
       "    if (outputDiv.id !== \"altair-viz-2666375b28f84b1b9dcbb9649e510eba\") {\n",
       "      outputDiv = document.getElementById(\"altair-viz-2666375b28f84b1b9dcbb9649e510eba\");\n",
       "    }\n",
       "    const paths = {\n",
       "      \"vega\": \"https://cdn.jsdelivr.net/npm//vega@5?noext\",\n",
       "      \"vega-lib\": \"https://cdn.jsdelivr.net/npm//vega-lib?noext\",\n",
       "      \"vega-lite\": \"https://cdn.jsdelivr.net/npm//vega-lite@4.8.1?noext\",\n",
       "      \"vega-embed\": \"https://cdn.jsdelivr.net/npm//vega-embed@6?noext\",\n",
       "    };\n",
       "\n",
       "    function loadScript(lib) {\n",
       "      return new Promise(function(resolve, reject) {\n",
       "        var s = document.createElement('script');\n",
       "        s.src = paths[lib];\n",
       "        s.async = true;\n",
       "        s.onload = () => resolve(paths[lib]);\n",
       "        s.onerror = () => reject(`Error loading script: ${paths[lib]}`);\n",
       "        document.getElementsByTagName(\"head\")[0].appendChild(s);\n",
       "      });\n",
       "    }\n",
       "\n",
       "    function showError(err) {\n",
       "      outputDiv.innerHTML = `<div class=\"error\" style=\"color:red;\">${err}</div>`;\n",
       "      throw err;\n",
       "    }\n",
       "\n",
       "    function displayChart(vegaEmbed) {\n",
       "      vegaEmbed(outputDiv, spec, embedOpt)\n",
       "        .catch(err => showError(`Javascript Error: ${err.message}<br>This usually means there's a typo in your chart specification. See the javascript console for the full traceback.`));\n",
       "    }\n",
       "\n",
       "    if(typeof define === \"function\" && define.amd) {\n",
       "      requirejs.config({paths});\n",
       "      require([\"vega-embed\"], displayChart, err => showError(`Error loading script: ${err.message}`));\n",
       "    } else if (typeof vegaEmbed === \"function\") {\n",
       "      displayChart(vegaEmbed);\n",
       "    } else {\n",
       "      loadScript(\"vega\")\n",
       "        .then(() => loadScript(\"vega-lite\"))\n",
       "        .then(() => loadScript(\"vega-embed\"))\n",
       "        .catch(showError)\n",
       "        .then(() => displayChart(vegaEmbed));\n",
       "    }\n",
       "  })({\"config\": {\"view\": {\"continuousWidth\": 400, \"continuousHeight\": 300}}, \"layer\": [{\"mark\": \"rect\", \"encoding\": {\"color\": {\"type\": \"quantitative\", \"field\": \"correlation\", \"scale\": {\"domain\": [0, 1]}}, \"x\": {\"type\": \"nominal\", \"field\": \"Possible Features\"}, \"y\": {\"type\": \"nominal\", \"field\": \"Response\"}}, \"height\": {\"step\": 100}, \"width\": {\"step\": 100}}, {\"mark\": {\"type\": \"text\", \"size\": 30}, \"encoding\": {\"color\": {\"condition\": {\"value\": \"white\", \"test\": \"datum.correlation > 0.5\"}, \"value\": \"black\"}, \"text\": {\"type\": \"quantitative\", \"field\": \"correlation\", \"format\": \".2f\"}, \"x\": {\"type\": \"nominal\", \"field\": \"Possible Features\"}, \"y\": {\"type\": \"nominal\", \"field\": \"Response\"}}, \"height\": {\"step\": 100}, \"width\": {\"step\": 100}}], \"data\": {\"name\": \"data-25d939ec862cfa1ebca8eb8f72e88458\"}, \"$schema\": \"https://vega.github.io/schema/vega-lite/v4.8.1.json\", \"datasets\": {\"data-25d939ec862cfa1ebca8eb8f72e88458\": [{\"Possible Features\": \"Departures For Metric Computation+1\", \"Response\": \"Departures For Metric Computation+1\", \"correlation\": 1.0}, {\"Possible Features\": \"Arrivals For Metric Computation-1\", \"Response\": \"Departures For Metric Computation+1\", \"correlation\": 0.38664421859819387}, {\"Possible Features\": \"Departures For Metric Computation+2\", \"Response\": \"Departures For Metric Computation+1\", \"correlation\": 0.663306789097329}, {\"Possible Features\": \"Arrivals For Metric Computation-2\", \"Response\": \"Departures For Metric Computation+1\", \"correlation\": 0.12406925586667027}, {\"Possible Features\": \"Departures For Metric Computation+3\", \"Response\": \"Departures For Metric Computation+1\", \"correlation\": 0.4101115952046979}, {\"Possible Features\": \"Arrivals For Metric Computation-3\", \"Response\": \"Departures For Metric Computation+1\", \"correlation\": -0.047982291057580645}, {\"Possible Features\": \"Departures For Metric Computation+4\", \"Response\": \"Departures For Metric Computation+1\", \"correlation\": 0.21767802628313646}, {\"Possible Features\": \"Arrivals For Metric Computation-4\", \"Response\": \"Departures For Metric Computation+1\", \"correlation\": -0.16089286241613687}, {\"Possible Features\": \"Departures For Metric Computation+5\", \"Response\": \"Departures For Metric Computation+1\", \"correlation\": 0.09019039648335005}, {\"Possible Features\": \"Arrivals For Metric Computation-5\", \"Response\": \"Departures For Metric Computation+1\", \"correlation\": -0.2818823286371851}, {\"Possible Features\": \"Departures For Metric Computation+1\", \"Response\": \"Arrivals For Metric Computation-1\", \"correlation\": 0.38664421859819387}, {\"Possible Features\": \"Arrivals For Metric Computation-1\", \"Response\": \"Arrivals For Metric Computation-1\", \"correlation\": 1.0}, {\"Possible Features\": \"Departures For Metric Computation+2\", \"Response\": \"Arrivals For Metric Computation-1\", \"correlation\": 0.1265543365799328}, {\"Possible Features\": \"Arrivals For Metric Computation-2\", \"Response\": \"Arrivals For Metric Computation-1\", \"correlation\": 0.6709996318996223}, {\"Possible Features\": \"Departures For Metric Computation+3\", \"Response\": \"Arrivals For Metric Computation-1\", \"correlation\": -0.04997486119318087}, {\"Possible Features\": \"Arrivals For Metric Computation-3\", \"Response\": \"Arrivals For Metric Computation-1\", \"correlation\": 0.5399238373583414}, {\"Possible Features\": \"Departures For Metric Computation+4\", \"Response\": \"Arrivals For Metric Computation-1\", \"correlation\": -0.1756063525990514}, {\"Possible Features\": \"Arrivals For Metric Computation-4\", \"Response\": \"Arrivals For Metric Computation-1\", \"correlation\": 0.49168688928168547}, {\"Possible Features\": \"Departures For Metric Computation+5\", \"Response\": \"Arrivals For Metric Computation-1\", \"correlation\": -0.30488227217225716}, {\"Possible Features\": \"Arrivals For Metric Computation-5\", \"Response\": \"Arrivals For Metric Computation-1\", \"correlation\": 0.3482134030690709}, {\"Possible Features\": \"Departures For Metric Computation+1\", \"Response\": \"Departures For Metric Computation+2\", \"correlation\": 0.663306789097329}, {\"Possible Features\": \"Arrivals For Metric Computation-1\", \"Response\": \"Departures For Metric Computation+2\", \"correlation\": 0.1265543365799328}, {\"Possible Features\": \"Departures For Metric Computation+2\", \"Response\": \"Departures For Metric Computation+2\", \"correlation\": 1.0}, {\"Possible Features\": \"Arrivals For Metric Computation-2\", \"Response\": \"Departures For Metric Computation+2\", \"correlation\": -0.05084643438548234}, {\"Possible Features\": \"Departures For Metric Computation+3\", \"Response\": \"Departures For Metric Computation+2\", \"correlation\": 0.6698214715256874}, {\"Possible Features\": \"Arrivals For Metric Computation-3\", \"Response\": \"Departures For Metric Computation+2\", \"correlation\": -0.16659807690466027}, {\"Possible Features\": \"Departures For Metric Computation+4\", \"Response\": \"Departures For Metric Computation+2\", \"correlation\": 0.42881159355779996}, {\"Possible Features\": \"Arrivals For Metric Computation-4\", \"Response\": \"Departures For Metric Computation+2\", \"correlation\": -0.2909076079668912}, {\"Possible Features\": \"Departures For Metric Computation+5\", \"Response\": \"Departures For Metric Computation+2\", \"correlation\": 0.24453879273921877}, {\"Possible Features\": \"Arrivals For Metric Computation-5\", \"Response\": \"Departures For Metric Computation+2\", \"correlation\": -0.35042085576729476}, {\"Possible Features\": \"Departures For Metric Computation+1\", \"Response\": \"Arrivals For Metric Computation-2\", \"correlation\": 0.12406925586667027}, {\"Possible Features\": \"Arrivals For Metric Computation-1\", \"Response\": \"Arrivals For Metric Computation-2\", \"correlation\": 0.6709996318996223}, {\"Possible Features\": \"Departures For Metric Computation+2\", \"Response\": \"Arrivals For Metric Computation-2\", \"correlation\": -0.05084643438548234}, {\"Possible Features\": \"Arrivals For Metric Computation-2\", \"Response\": \"Arrivals For Metric Computation-2\", \"correlation\": 1.0}, {\"Possible Features\": \"Departures For Metric Computation+3\", \"Response\": \"Arrivals For Metric Computation-2\", \"correlation\": -0.16978012520090616}, {\"Possible Features\": \"Arrivals For Metric Computation-3\", \"Response\": \"Arrivals For Metric Computation-2\", \"correlation\": 0.6742223845191575}, {\"Possible Features\": \"Departures For Metric Computation+4\", \"Response\": \"Arrivals For Metric Computation-2\", \"correlation\": -0.30148630744369687}, {\"Possible Features\": \"Arrivals For Metric Computation-4\", \"Response\": \"Arrivals For Metric Computation-2\", \"correlation\": 0.5439352360517928}, {\"Possible Features\": \"Departures For Metric Computation+5\", \"Response\": \"Arrivals For Metric Computation-2\", \"correlation\": -0.371979400319521}, {\"Possible Features\": \"Arrivals For Metric Computation-5\", \"Response\": \"Arrivals For Metric Computation-2\", \"correlation\": 0.48791490449510033}, {\"Possible Features\": \"Departures For Metric Computation+1\", \"Response\": \"Departures For Metric Computation+3\", \"correlation\": 0.4101115952046979}, {\"Possible Features\": \"Arrivals For Metric Computation-1\", \"Response\": \"Departures For Metric Computation+3\", \"correlation\": -0.04997486119318087}, {\"Possible Features\": \"Departures For Metric Computation+2\", \"Response\": \"Departures For Metric Computation+3\", \"correlation\": 0.6698214715256874}, {\"Possible Features\": \"Arrivals For Metric Computation-2\", \"Response\": \"Departures For Metric Computation+3\", \"correlation\": -0.16978012520090616}, {\"Possible Features\": \"Departures For Metric Computation+3\", \"Response\": \"Departures For Metric Computation+3\", \"correlation\": 1.0}, {\"Possible Features\": \"Arrivals For Metric Computation-3\", \"Response\": \"Departures For Metric Computation+3\", \"correlation\": -0.29785026111097296}, {\"Possible Features\": \"Departures For Metric Computation+4\", \"Response\": \"Departures For Metric Computation+3\", \"correlation\": 0.6846412804758186}, {\"Possible Features\": \"Arrivals For Metric Computation-4\", \"Response\": \"Departures For Metric Computation+3\", \"correlation\": -0.3589837868527556}, {\"Possible Features\": \"Departures For Metric Computation+5\", \"Response\": \"Departures For Metric Computation+3\", \"correlation\": 0.45340297613649955}, {\"Possible Features\": \"Arrivals For Metric Computation-5\", \"Response\": \"Departures For Metric Computation+3\", \"correlation\": -0.29164375672469645}, {\"Possible Features\": \"Departures For Metric Computation+1\", \"Response\": \"Arrivals For Metric Computation-3\", \"correlation\": -0.047982291057580645}, {\"Possible Features\": \"Arrivals For Metric Computation-1\", \"Response\": \"Arrivals For Metric Computation-3\", \"correlation\": 0.5399238373583414}, {\"Possible Features\": \"Departures For Metric Computation+2\", \"Response\": \"Arrivals For Metric Computation-3\", \"correlation\": -0.16659807690466027}, {\"Possible Features\": \"Arrivals For Metric Computation-2\", \"Response\": \"Arrivals For Metric Computation-3\", \"correlation\": 0.6742223845191575}, {\"Possible Features\": \"Departures For Metric Computation+3\", \"Response\": \"Arrivals For Metric Computation-3\", \"correlation\": -0.29785026111097296}, {\"Possible Features\": \"Arrivals For Metric Computation-3\", \"Response\": \"Arrivals For Metric Computation-3\", \"correlation\": 1.0}, {\"Possible Features\": \"Departures For Metric Computation+4\", \"Response\": \"Arrivals For Metric Computation-3\", \"correlation\": -0.36899081605566963}, {\"Possible Features\": \"Arrivals For Metric Computation-4\", \"Response\": \"Arrivals For Metric Computation-3\", \"correlation\": 0.6803100542742302}, {\"Possible Features\": \"Departures For Metric Computation+5\", \"Response\": \"Arrivals For Metric Computation-3\", \"correlation\": -0.3134914384286863}, {\"Possible Features\": \"Arrivals For Metric Computation-5\", \"Response\": \"Arrivals For Metric Computation-3\", \"correlation\": 0.5549852617182032}, {\"Possible Features\": \"Departures For Metric Computation+1\", \"Response\": \"Departures For Metric Computation+4\", \"correlation\": 0.21767802628313646}, {\"Possible Features\": \"Arrivals For Metric Computation-1\", \"Response\": \"Departures For Metric Computation+4\", \"correlation\": -0.1756063525990514}, {\"Possible Features\": \"Departures For Metric Computation+2\", \"Response\": \"Departures For Metric Computation+4\", \"correlation\": 0.42881159355779996}, {\"Possible Features\": \"Arrivals For Metric Computation-2\", \"Response\": \"Departures For Metric Computation+4\", \"correlation\": -0.30148630744369687}, {\"Possible Features\": \"Departures For Metric Computation+3\", \"Response\": \"Departures For Metric Computation+4\", \"correlation\": 0.6846412804758186}, {\"Possible Features\": \"Arrivals For Metric Computation-3\", \"Response\": \"Departures For Metric Computation+4\", \"correlation\": -0.36899081605566963}, {\"Possible Features\": \"Departures For Metric Computation+4\", \"Response\": \"Departures For Metric Computation+4\", \"correlation\": 1.0}, {\"Possible Features\": \"Arrivals For Metric Computation-4\", \"Response\": \"Departures For Metric Computation+4\", \"correlation\": -0.3025014303151139}, {\"Possible Features\": \"Departures For Metric Computation+5\", \"Response\": \"Departures For Metric Computation+4\", \"correlation\": 0.6967254998472703}, {\"Possible Features\": \"Arrivals For Metric Computation-5\", \"Response\": \"Departures For Metric Computation+4\", \"correlation\": -0.19224100065732044}, {\"Possible Features\": \"Departures For Metric Computation+1\", \"Response\": \"Arrivals For Metric Computation-4\", \"correlation\": -0.16089286241613687}, {\"Possible Features\": \"Arrivals For Metric Computation-1\", \"Response\": \"Arrivals For Metric Computation-4\", \"correlation\": 0.49168688928168547}, {\"Possible Features\": \"Departures For Metric Computation+2\", \"Response\": \"Arrivals For Metric Computation-4\", \"correlation\": -0.2909076079668912}, {\"Possible Features\": \"Arrivals For Metric Computation-2\", \"Response\": \"Arrivals For Metric Computation-4\", \"correlation\": 0.5439352360517928}, {\"Possible Features\": \"Departures For Metric Computation+3\", \"Response\": \"Arrivals For Metric Computation-4\", \"correlation\": -0.3589837868527556}, {\"Possible Features\": \"Arrivals For Metric Computation-3\", \"Response\": \"Arrivals For Metric Computation-4\", \"correlation\": 0.6803100542742302}, {\"Possible Features\": \"Departures For Metric Computation+4\", \"Response\": \"Arrivals For Metric Computation-4\", \"correlation\": -0.3025014303151139}, {\"Possible Features\": \"Arrivals For Metric Computation-4\", \"Response\": \"Arrivals For Metric Computation-4\", \"correlation\": 1.0}, {\"Possible Features\": \"Departures For Metric Computation+5\", \"Response\": \"Arrivals For Metric Computation-4\", \"correlation\": -0.20690044013619446}, {\"Possible Features\": \"Arrivals For Metric Computation-5\", \"Response\": \"Arrivals For Metric Computation-4\", \"correlation\": 0.6848704703679975}, {\"Possible Features\": \"Departures For Metric Computation+1\", \"Response\": \"Departures For Metric Computation+5\", \"correlation\": 0.09019039648335005}, {\"Possible Features\": \"Arrivals For Metric Computation-1\", \"Response\": \"Departures For Metric Computation+5\", \"correlation\": -0.30488227217225716}, {\"Possible Features\": \"Departures For Metric Computation+2\", \"Response\": \"Departures For Metric Computation+5\", \"correlation\": 0.24453879273921877}, {\"Possible Features\": \"Arrivals For Metric Computation-2\", \"Response\": \"Departures For Metric Computation+5\", \"correlation\": -0.371979400319521}, {\"Possible Features\": \"Departures For Metric Computation+3\", \"Response\": \"Departures For Metric Computation+5\", \"correlation\": 0.45340297613649955}, {\"Possible Features\": \"Arrivals For Metric Computation-3\", \"Response\": \"Departures For Metric Computation+5\", \"correlation\": -0.3134914384286863}, {\"Possible Features\": \"Departures For Metric Computation+4\", \"Response\": \"Departures For Metric Computation+5\", \"correlation\": 0.6967254998472703}, {\"Possible Features\": \"Arrivals For Metric Computation-4\", \"Response\": \"Departures For Metric Computation+5\", \"correlation\": -0.20690044013619446}, {\"Possible Features\": \"Departures For Metric Computation+5\", \"Response\": \"Departures For Metric Computation+5\", \"correlation\": 1.0}, {\"Possible Features\": \"Arrivals For Metric Computation-5\", \"Response\": \"Departures For Metric Computation+5\", \"correlation\": -0.09199882448194113}, {\"Possible Features\": \"Departures For Metric Computation+1\", \"Response\": \"Arrivals For Metric Computation-5\", \"correlation\": -0.2818823286371851}, {\"Possible Features\": \"Arrivals For Metric Computation-1\", \"Response\": \"Arrivals For Metric Computation-5\", \"correlation\": 0.3482134030690709}, {\"Possible Features\": \"Departures For Metric Computation+2\", \"Response\": \"Arrivals For Metric Computation-5\", \"correlation\": -0.35042085576729476}, {\"Possible Features\": \"Arrivals For Metric Computation-2\", \"Response\": \"Arrivals For Metric Computation-5\", \"correlation\": 0.48791490449510033}, {\"Possible Features\": \"Departures For Metric Computation+3\", \"Response\": \"Arrivals For Metric Computation-5\", \"correlation\": -0.29164375672469645}, {\"Possible Features\": \"Arrivals For Metric Computation-3\", \"Response\": \"Arrivals For Metric Computation-5\", \"correlation\": 0.5549852617182032}, {\"Possible Features\": \"Departures For Metric Computation+4\", \"Response\": \"Arrivals For Metric Computation-5\", \"correlation\": -0.19224100065732044}, {\"Possible Features\": \"Arrivals For Metric Computation-4\", \"Response\": \"Arrivals For Metric Computation-5\", \"correlation\": 0.6848704703679975}, {\"Possible Features\": \"Departures For Metric Computation+5\", \"Response\": \"Arrivals For Metric Computation-5\", \"correlation\": -0.09199882448194113}, {\"Possible Features\": \"Arrivals For Metric Computation-5\", \"Response\": \"Arrivals For Metric Computation-5\", \"correlation\": 1.0}]}}, {\"mode\": \"vega-lite\"});\n",
       "</script>"
      ],
      "text/plain": [
       "alt.LayerChart(...)"
      ]
     },
     "execution_count": 14,
     "metadata": {},
     "output_type": "execute_result"
    }
   ],
   "source": [
    "# feature_list = [\"Departures For Metric Computation\", \"Arrivals For Metric Computation\"]\n",
    "corrMatrix = data[[*feature_list]].corr().reset_index().melt('index')\n",
    "corrMatrix.columns = ['Possible Features', 'Response', 'correlation']\n",
    "\n",
    "\n",
    "base = alt.Chart(corrMatrix).encode(\n",
    "    x='Possible Features',\n",
    "    y='Response',\n",
    ").properties(\n",
    "    width=alt.Step(100),\n",
    "    height=alt.Step(100)\n",
    ")\n",
    "\n",
    "rects = base.mark_rect().encode(\n",
    "    color=alt.Color('correlation', scale=alt.Scale(domain=[0,1]))\n",
    ")\n",
    "\n",
    "text = base.mark_text(\n",
    "    size=30\n",
    ").encode(\n",
    "    text=alt.Text('correlation', format=\".2f\"),\n",
    "    color=alt.condition(\n",
    "        \"datum.correlation > 0.5\",\n",
    "        alt.value('white'),\n",
    "        alt.value('black')\n",
    "    )\n",
    ")\n",
    "\n",
    "rects + text"
   ]
  },
  {
   "cell_type": "markdown",
   "id": "a2cd56ed-604d-46d2-a52d-ef0069f13388",
   "metadata": {},
   "source": [
    "Test stuff on our model! This is not really used for much."
   ]
  },
  {
   "cell_type": "code",
   "execution_count": 15,
   "id": "2ca7d1fd-dec3-4636-a446-e4ff3acb74f6",
   "metadata": {},
   "outputs": [
    {
     "ename": "KeyError",
     "evalue": "\"None of [Index(['Day', 'Facility'], dtype='object')] are in the [columns]\"",
     "output_type": "error",
     "traceback": [
      "\u001b[0;31m---------------------------------------------------------------------------\u001b[0m",
      "\u001b[0;31mKeyError\u001b[0m                                  Traceback (most recent call last)",
      "Input \u001b[0;32mIn [15]\u001b[0m, in \u001b[0;36m<cell line: 1>\u001b[0;34m()\u001b[0m\n\u001b[0;32m----> 1\u001b[0m X \u001b[38;5;241m=\u001b[39m \u001b[43mpd\u001b[49m\u001b[38;5;241;43m.\u001b[39;49m\u001b[43mget_dummies\u001b[49m\u001b[43m(\u001b[49m\u001b[43mpickup_data\u001b[49m\u001b[43m[\u001b[49m\u001b[43mfeature_list\u001b[49m\u001b[43m]\u001b[49m\u001b[43m,\u001b[49m\u001b[43m \u001b[49m\u001b[43mcolumns\u001b[49m\u001b[38;5;241;43m=\u001b[39;49m\u001b[43m[\u001b[49m\u001b[38;5;124;43m\"\u001b[39;49m\u001b[38;5;124;43mDay\u001b[39;49m\u001b[38;5;124;43m\"\u001b[39;49m\u001b[43m,\u001b[49m\u001b[43m \u001b[49m\u001b[38;5;124;43m\"\u001b[39;49m\u001b[38;5;124;43mFacility\u001b[39;49m\u001b[38;5;124;43m\"\u001b[39;49m\u001b[43m,\u001b[49m\u001b[43m \u001b[49m\u001b[43m]\u001b[49m\u001b[43m)\u001b[49m\n\u001b[1;32m      2\u001b[0m pipeline \u001b[38;5;241m=\u001b[39m make_pipeline(PolynomialFeatures(interaction_only\u001b[38;5;241m=\u001b[39m\u001b[38;5;28;01mTrue\u001b[39;00m, include_bias \u001b[38;5;241m=\u001b[39m \u001b[38;5;28;01mFalse\u001b[39;00m), StandardScaler(), ElasticNet())\n\u001b[1;32m      4\u001b[0m X_train,X_test,y_train,y_test\u001b[38;5;241m=\u001b[39mtrain_test_split(X,pickup_y)\n",
      "File \u001b[0;32m~/anaconda3/envs/applied-data-science1/lib/python3.10/site-packages/pandas/core/reshape/reshape.py:931\u001b[0m, in \u001b[0;36mget_dummies\u001b[0;34m(data, prefix, prefix_sep, dummy_na, columns, sparse, drop_first, dtype)\u001b[0m\n\u001b[1;32m    929\u001b[0m     \u001b[38;5;28;01mraise\u001b[39;00m \u001b[38;5;167;01mTypeError\u001b[39;00m(\u001b[38;5;124m\"\u001b[39m\u001b[38;5;124mInput must be a list-like for parameter `columns`\u001b[39m\u001b[38;5;124m\"\u001b[39m)\n\u001b[1;32m    930\u001b[0m \u001b[38;5;28;01melse\u001b[39;00m:\n\u001b[0;32m--> 931\u001b[0m     data_to_encode \u001b[38;5;241m=\u001b[39m \u001b[43mdata\u001b[49m\u001b[43m[\u001b[49m\u001b[43mcolumns\u001b[49m\u001b[43m]\u001b[49m\n\u001b[1;32m    933\u001b[0m \u001b[38;5;66;03m# validate prefixes and separator to avoid silently dropping cols\u001b[39;00m\n\u001b[1;32m    934\u001b[0m \u001b[38;5;28;01mdef\u001b[39;00m \u001b[38;5;21mcheck_len\u001b[39m(item, name):\n",
      "File \u001b[0;32m~/anaconda3/envs/applied-data-science1/lib/python3.10/site-packages/pandas/core/frame.py:3511\u001b[0m, in \u001b[0;36mDataFrame.__getitem__\u001b[0;34m(self, key)\u001b[0m\n\u001b[1;32m   3509\u001b[0m     \u001b[38;5;28;01mif\u001b[39;00m is_iterator(key):\n\u001b[1;32m   3510\u001b[0m         key \u001b[38;5;241m=\u001b[39m \u001b[38;5;28mlist\u001b[39m(key)\n\u001b[0;32m-> 3511\u001b[0m     indexer \u001b[38;5;241m=\u001b[39m \u001b[38;5;28;43mself\u001b[39;49m\u001b[38;5;241;43m.\u001b[39;49m\u001b[43mcolumns\u001b[49m\u001b[38;5;241;43m.\u001b[39;49m\u001b[43m_get_indexer_strict\u001b[49m\u001b[43m(\u001b[49m\u001b[43mkey\u001b[49m\u001b[43m,\u001b[49m\u001b[43m \u001b[49m\u001b[38;5;124;43m\"\u001b[39;49m\u001b[38;5;124;43mcolumns\u001b[39;49m\u001b[38;5;124;43m\"\u001b[39;49m\u001b[43m)\u001b[49m[\u001b[38;5;241m1\u001b[39m]\n\u001b[1;32m   3513\u001b[0m \u001b[38;5;66;03m# take() does not accept boolean indexers\u001b[39;00m\n\u001b[1;32m   3514\u001b[0m \u001b[38;5;28;01mif\u001b[39;00m \u001b[38;5;28mgetattr\u001b[39m(indexer, \u001b[38;5;124m\"\u001b[39m\u001b[38;5;124mdtype\u001b[39m\u001b[38;5;124m\"\u001b[39m, \u001b[38;5;28;01mNone\u001b[39;00m) \u001b[38;5;241m==\u001b[39m \u001b[38;5;28mbool\u001b[39m:\n",
      "File \u001b[0;32m~/anaconda3/envs/applied-data-science1/lib/python3.10/site-packages/pandas/core/indexes/base.py:5782\u001b[0m, in \u001b[0;36mIndex._get_indexer_strict\u001b[0;34m(self, key, axis_name)\u001b[0m\n\u001b[1;32m   5779\u001b[0m \u001b[38;5;28;01melse\u001b[39;00m:\n\u001b[1;32m   5780\u001b[0m     keyarr, indexer, new_indexer \u001b[38;5;241m=\u001b[39m \u001b[38;5;28mself\u001b[39m\u001b[38;5;241m.\u001b[39m_reindex_non_unique(keyarr)\n\u001b[0;32m-> 5782\u001b[0m \u001b[38;5;28;43mself\u001b[39;49m\u001b[38;5;241;43m.\u001b[39;49m\u001b[43m_raise_if_missing\u001b[49m\u001b[43m(\u001b[49m\u001b[43mkeyarr\u001b[49m\u001b[43m,\u001b[49m\u001b[43m \u001b[49m\u001b[43mindexer\u001b[49m\u001b[43m,\u001b[49m\u001b[43m \u001b[49m\u001b[43maxis_name\u001b[49m\u001b[43m)\u001b[49m\n\u001b[1;32m   5784\u001b[0m keyarr \u001b[38;5;241m=\u001b[39m \u001b[38;5;28mself\u001b[39m\u001b[38;5;241m.\u001b[39mtake(indexer)\n\u001b[1;32m   5785\u001b[0m \u001b[38;5;28;01mif\u001b[39;00m \u001b[38;5;28misinstance\u001b[39m(key, Index):\n\u001b[1;32m   5786\u001b[0m     \u001b[38;5;66;03m# GH 42790 - Preserve name from an Index\u001b[39;00m\n",
      "File \u001b[0;32m~/anaconda3/envs/applied-data-science1/lib/python3.10/site-packages/pandas/core/indexes/base.py:5842\u001b[0m, in \u001b[0;36mIndex._raise_if_missing\u001b[0;34m(self, key, indexer, axis_name)\u001b[0m\n\u001b[1;32m   5840\u001b[0m     \u001b[38;5;28;01mif\u001b[39;00m use_interval_msg:\n\u001b[1;32m   5841\u001b[0m         key \u001b[38;5;241m=\u001b[39m \u001b[38;5;28mlist\u001b[39m(key)\n\u001b[0;32m-> 5842\u001b[0m     \u001b[38;5;28;01mraise\u001b[39;00m \u001b[38;5;167;01mKeyError\u001b[39;00m(\u001b[38;5;124mf\u001b[39m\u001b[38;5;124m\"\u001b[39m\u001b[38;5;124mNone of [\u001b[39m\u001b[38;5;132;01m{\u001b[39;00mkey\u001b[38;5;132;01m}\u001b[39;00m\u001b[38;5;124m] are in the [\u001b[39m\u001b[38;5;132;01m{\u001b[39;00maxis_name\u001b[38;5;132;01m}\u001b[39;00m\u001b[38;5;124m]\u001b[39m\u001b[38;5;124m\"\u001b[39m)\n\u001b[1;32m   5844\u001b[0m not_found \u001b[38;5;241m=\u001b[39m \u001b[38;5;28mlist\u001b[39m(ensure_index(key)[missing_mask\u001b[38;5;241m.\u001b[39mnonzero()[\u001b[38;5;241m0\u001b[39m]]\u001b[38;5;241m.\u001b[39munique())\n\u001b[1;32m   5845\u001b[0m \u001b[38;5;28;01mraise\u001b[39;00m \u001b[38;5;167;01mKeyError\u001b[39;00m(\u001b[38;5;124mf\u001b[39m\u001b[38;5;124m\"\u001b[39m\u001b[38;5;132;01m{\u001b[39;00mnot_found\u001b[38;5;132;01m}\u001b[39;00m\u001b[38;5;124m not in index\u001b[39m\u001b[38;5;124m\"\u001b[39m)\n",
      "\u001b[0;31mKeyError\u001b[0m: \"None of [Index(['Day', 'Facility'], dtype='object')] are in the [columns]\""
     ]
    }
   ],
   "source": [
    "\n",
    "X = pd.get_dummies(pickup_data[feature_list], columns=[\"Day\", \"Facility\", ])\n",
    "pipeline = make_pipeline(PolynomialFeatures(interaction_only=True, include_bias = False), StandardScaler(), ElasticNet())\n",
    "\n",
    "X_train,X_test,y_train,y_test=train_test_split(X,pickup_y)"
   ]
  },
  {
   "cell_type": "code",
   "execution_count": null,
   "id": "0ed3fb2d-c44c-46ad-b5da-ea195f93eb13",
   "metadata": {},
   "outputs": [],
   "source": [
    "params =  {\"elasticnet__alpha\": [.1, 1],\n",
    "                      \"elasticnet__l1_ratio\": [.7, 1]}\n",
    "\n",
    "gs = GridSearchCV(pipeline, params, scoring=\"r2\")\n",
    "\n",
    "gs.fit(X_train, y_train)\n",
    "\n",
    "X_test = pd.read_parquet(\"../data/curated/test/Airport Pickups_2022_test\")\n",
    "y_test = X_test[\"count\"]\n",
    "X_test = pd.get_dummies(X_test[feature_list], columns=[\"Day\", \"Facility\"])\n",
    "pred = gs.best_estimator_.predict(X_test)\n",
    "r2_score(y_test, pred)"
   ]
  },
  {
   "cell_type": "code",
   "execution_count": null,
   "id": "5ce97272-4a86-4824-8c1f-90d110fef5ea",
   "metadata": {},
   "outputs": [],
   "source": [
    "gs.best_params_"
   ]
  },
  {
   "cell_type": "code",
   "execution_count": null,
   "id": "9a05e695-820f-4577-aac8-3313f9919775",
   "metadata": {},
   "outputs": [],
   "source": [
    "gs.best_score_"
   ]
  },
  {
   "cell_type": "code",
   "execution_count": null,
   "id": "9855fe72-9d1e-4da9-80c5-572514b243cc",
   "metadata": {},
   "outputs": [],
   "source": []
  }
 ],
 "metadata": {
  "kernelspec": {
   "display_name": "Python 3 (ipykernel)",
   "language": "python",
   "name": "python3"
  },
  "language_info": {
   "codemirror_mode": {
    "name": "ipython",
    "version": 3
   },
   "file_extension": ".py",
   "mimetype": "text/x-python",
   "name": "python",
   "nbconvert_exporter": "python",
   "pygments_lexer": "ipython3",
   "version": "3.10.4"
  }
 },
 "nbformat": 4,
 "nbformat_minor": 5
}
